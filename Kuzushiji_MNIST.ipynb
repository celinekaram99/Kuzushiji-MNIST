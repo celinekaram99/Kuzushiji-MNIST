{
  "nbformat": 4,
  "nbformat_minor": 0,
  "metadata": {
    "colab": {
      "provenance": [],
      "include_colab_link": true
    },
    "kernelspec": {
      "name": "python3",
      "display_name": "Python 3"
    },
    "language_info": {
      "name": "python"
    }
  },
  "cells": [
    {
      "cell_type": "markdown",
      "metadata": {
        "id": "view-in-github",
        "colab_type": "text"
      },
      "source": [
        "<a href=\"https://colab.research.google.com/github/celinekaram99/Kuzushiji-MNIST/blob/main/Kuzushiji_MNIST.ipynb\" target=\"_parent\"><img src=\"https://colab.research.google.com/assets/colab-badge.svg\" alt=\"Open In Colab\"/></a>"
      ]
    },
    {
      "cell_type": "markdown",
      "source": [
        "***Celine Karam***\n",
        "#314658428"
      ],
      "metadata": {
        "id": "mPnqS2Owu1HW"
      }
    },
    {
      "cell_type": "markdown",
      "source": [
        "# Import Libraries :\n",
        "\n"
      ],
      "metadata": {
        "id": "iQ-Y-NVTj3j1"
      }
    },
    {
      "cell_type": "code",
      "source": [
        "#importing the libraries\n",
        "import os\n",
        "from time import time\n",
        "import numpy as np\n",
        "\n",
        "import torch\n",
        "from torch import nn\n",
        "from torch.nn import Linear, CrossEntropyLoss\n",
        "from torch.optim import Adam\n",
        "from torch.utils.data import DataLoader\n",
        "import torch.nn.functional as F\n",
        "import torch.optim as optim\n",
        "from torch.autograd import Variable\n",
        "\n",
        "from torchvision import datasets\n",
        "from torchvision.transforms import ToTensor # following is needed for converting data to tensors\n",
        "from torchvision.transforms import transforms\n",
        "import torchvision.models as models\n",
        "\n",
        "import matplotlib.pyplot as plt\n",
        "\n",
        "from sklearn.metrics import confusion_matrix\n"
      ],
      "metadata": {
        "id": "wOO_6QrvJS4S"
      },
      "execution_count": null,
      "outputs": []
    },
    {
      "cell_type": "markdown",
      "source": [
        "# Load Data :\n",
        "\n",
        "1. Data Transformer\n",
        "2. Download\n",
        "3. Load \n",
        " \n",
        "It is not strictly necessary to normalize the Kuzushiji MNIST dataset.\n",
        "\n"
      ],
      "metadata": {
        "id": "KjHM8baS3wud"
      }
    },
    {
      "cell_type": "markdown",
      "source": [
        "**We have data of 60k as training data set with 10k testing data set. All images have 28x28 pixel.**"
      ],
      "metadata": {
        "id": "d_VvXN4N3EwY"
      }
    },
    {
      "cell_type": "code",
      "source": [
        "# Define the transformation to apply to the images\n",
        "transform = transforms.Compose([transforms.ToTensor(),\n",
        "                                transforms.Normalize((0.5, 0.5, 0.5), (0.5, 0.5, 0.5))])"
      ],
      "metadata": {
        "id": "Pigj82fOkNb7"
      },
      "execution_count": null,
      "outputs": []
    },
    {
      "cell_type": "code",
      "source": [
        "# download Training data:\n",
        "train_data = datasets.KMNIST(\n",
        "    root      = \"data\",\n",
        "    train     = True,       # for Training data\n",
        "    download  = True,\n",
        "    transform = ToTensor()  # for converting to tensor\n",
        "    )\n",
        "\n",
        "print(train_data )           # 60K training samples\n",
        "print(train_data.data.shape) # each sample is 28x28 grayscale image"
      ],
      "metadata": {
        "colab": {
          "base_uri": "https://localhost:8080/"
        },
        "id": "VNYmnWFIX-IO",
        "outputId": "782f2576-a63c-4777-e216-d2ea0c75d60c"
      },
      "execution_count": null,
      "outputs": [
        {
          "output_type": "stream",
          "name": "stdout",
          "text": [
            "Dataset KMNIST\n",
            "    Number of datapoints: 60000\n",
            "    Root location: data\n",
            "    Split: Train\n",
            "    StandardTransform\n",
            "Transform: ToTensor()\n",
            "torch.Size([60000, 28, 28])\n"
          ]
        }
      ]
    },
    {
      "cell_type": "code",
      "source": [
        "# download Test data\n",
        "test_data = datasets.KMNIST(\n",
        "    root      = \"data\",\n",
        "    train     = False,      # for Test data\n",
        "    download  = True,\n",
        "    transform = ToTensor()  # for converting to tensor\n",
        "    )\n",
        "print(test_data)\n",
        "print(test_data.data.shape)"
      ],
      "metadata": {
        "colab": {
          "base_uri": "https://localhost:8080/"
        },
        "id": "oXRkZkp8fxHR",
        "outputId": "18316863-d0ec-4d0b-fb83-0ec91afe9ed3"
      },
      "execution_count": null,
      "outputs": [
        {
          "output_type": "stream",
          "name": "stdout",
          "text": [
            "Dataset KMNIST\n",
            "    Number of datapoints: 10000\n",
            "    Root location: data\n",
            "    Split: Test\n",
            "    StandardTransform\n",
            "Transform: ToTensor()\n",
            "torch.Size([10000, 28, 28])\n"
          ]
        }
      ]
    },
    {
      "cell_type": "code",
      "source": [
        "# Load Data\n",
        "# create DataLoader for Training data with batch size 150\n",
        "train_Dloader = DataLoader(dataset = train_data,batch_size = 150) \n",
        "\n",
        "# create DataLoader for Test data with batch size 150\n",
        "test_Dloader =  DataLoader(dataset= test_data,batch_size = 150)"
      ],
      "metadata": {
        "id": "WYyAP1NvlkEp"
      },
      "execution_count": null,
      "outputs": []
    },
    {
      "cell_type": "markdown",
      "source": [
        "# Visualization:\n"
      ],
      "metadata": {
        "id": "lc4pAT8tk7x0"
      }
    },
    {
      "cell_type": "markdown",
      "source": [
        "The 10 labels:\n",
        "0: 'か (ka)'\n",
        "1: 'き (ki)'\n",
        "2: 'く (ku)'\n",
        "3: 'け (ke)'\n",
        "4: 'こ (ko)'\n",
        "5: 'さ (sa)'\n",
        "6: 'し (shi)'\n",
        "7: 'す (su)'\n",
        "8: 'せ (se)'\n",
        "9: 'そ (so)'"
      ],
      "metadata": {
        "id": "iYSjgG0M5qpn"
      }
    },
    {
      "cell_type": "code",
      "source": [
        "labels=[\n",
        "    \"か\",\n",
        "    \"き\",\n",
        "    \"く\",\n",
        "    \"け\",\n",
        "    \"こ\",\n",
        "    \"さ\",\n",
        "    \"し\",\n",
        "    \"す\",\n",
        "    \"せ\",\n",
        "    \"そ\"\n",
        " ]"
      ],
      "metadata": {
        "id": "ynlbkqb5n9Dm"
      },
      "execution_count": null,
      "outputs": []
    },
    {
      "cell_type": "code",
      "source": [
        "# Simple function to visualize and find label of a training sample! \n",
        "def kuzushiji(index):\n",
        "    plt.imshow(train_data.data[index], cmap = \"Greys\")\n",
        "    print(labels[train_data[index][1]])\n",
        "# 475th index training sample is an character :す\n",
        "kuzushiji(475)"
      ],
      "metadata": {
        "colab": {
          "base_uri": "https://localhost:8080/",
          "height": 282
        },
        "id": "hNgGhnA_uyqg",
        "outputId": "d17453ff-5019-478c-aded-2b5d6d9dfda6"
      },
      "execution_count": null,
      "outputs": [
        {
          "output_type": "stream",
          "name": "stdout",
          "text": [
            "し\n"
          ]
        },
        {
          "output_type": "display_data",
          "data": {
            "text/plain": [
              "<Figure size 432x288 with 1 Axes>"
            ],
            "image/png": "[encoded data removed]"
          },
          "metadata": {
            "needs_background": "light"
          }
        }
      ]
    },
    {
      "cell_type": "markdown",
      "source": [
        "# Definition the Model, Loss, Optimizer:"
      ],
      "metadata": {
        "id": "m3S6oJbfcqzd"
      }
    },
    {
      "cell_type": "code",
      "source": [
        "# Define the Model \n",
        "class kuzushijiConvNet(nn.Module): # inherits from nn.Module\n",
        "\n",
        "    '''\n",
        "    define the layers of the network in the __init__ function\n",
        "    '''\n",
        "    def __init__(self):\n",
        "        super().__init__()\n",
        "        \n",
        "        \n",
        "        # First convolution layer \n",
        "        self.conv1 = nn.Sequential(\n",
        "            nn.Conv2d(in_channels=1, out_channels= 32,kernel_size= 2,padding='same'),\n",
        "            nn.BatchNorm2d(num_features = 32),       # batch norm\n",
        "            nn.ReLU(),                               # ReLU activation\n",
        "            nn.MaxPool2d(kernel_size    = 2)         # MaxPooling\n",
        "            )\n",
        "        \n",
        "        \n",
        "        # Second convolution layer\n",
        "        self.conv2 = nn.Sequential( \n",
        "            nn.Conv2d(in_channels= 32,out_channels= 64,kernel_size= 5),\n",
        "            nn.BatchNorm2d(num_features = 64),\n",
        "            nn.ReLU(),\n",
        "            nn.MaxPool2d(kernel_size    = 2)\n",
        "            )\n",
        "        \n",
        "        \n",
        "        # Flattening for the upcoming Dense layers\n",
        "        self.flatten = nn.Flatten()\n",
        "        \n",
        "        \n",
        "        # dense layer with dropout\n",
        "        self.fc1 = nn.Linear(\n",
        "            in_features  = 64*5*5,\n",
        "            out_features = 512)\n",
        "        self.drop1 = nn.Dropout2d(p = 0.3)     # dropout\n",
        "        \n",
        "        \n",
        "        # dense layer with dropout once more\n",
        "        self.fc2 = nn.Linear(\n",
        "            in_features  = 512,\n",
        "            out_features = 128)\n",
        "        self.drop2 = nn.Dropout2d(p = 0.2)     # dropout\n",
        "        \n",
        "        \n",
        "        # batch normalization & output layer\n",
        "        self.batchNorm = nn.BatchNorm1d(num_features = 128)\n",
        "        self.fc3 = nn.Linear(\n",
        "            in_features = 128,\n",
        "            out_features = 10)\n",
        "\n",
        "    '''\n",
        "    specify how data pass through the network in forward function\n",
        "    '''\n",
        "    def forward(self, x):\n",
        "        out = self.conv1(x)       # conv layer\n",
        "        out = self.conv2(out)     # conv layer\n",
        "        out = self.flatten(out)   # flattening\n",
        "\n",
        "        out = self.fc1(out)       # dense layers + dropout + batch norm --> fully connection layer \n",
        "        out = self.drop1(out)     \n",
        "        out = self.fc2(out)\n",
        "        out = self.drop2(out)\n",
        "        out = self.batchNorm(out)\n",
        "        out = self.fc3(out)       # final output \n",
        "        \n",
        "        return out\n",
        "        \n",
        "    \n",
        "\n",
        "\n",
        "convModel = kuzushijiConvNet()\n",
        "\n",
        "# check architecture\n",
        "print(convModel)\n"
      ],
      "metadata": {
        "colab": {
          "base_uri": "https://localhost:8080/"
        },
        "id": "mA11KFbNl_g2",
        "outputId": "7ce1b8fa-a558-4a0d-9014-1a055998aa09"
      },
      "execution_count": null,
      "outputs": [
        {
          "output_type": "stream",
          "name": "stdout",
          "text": [
            "kuzushijiConvNet(\n",
            "  (conv1): Sequential(\n",
            "    (0): Conv2d(1, 32, kernel_size=(2, 2), stride=(1, 1), padding=same)\n",
            "    (1): BatchNorm2d(32, eps=1e-05, momentum=0.1, affine=True, track_running_stats=True)\n",
            "    (2): ReLU()\n",
            "    (3): MaxPool2d(kernel_size=2, stride=2, padding=0, dilation=1, ceil_mode=False)\n",
            "  )\n",
            "  (conv2): Sequential(\n",
            "    (0): Conv2d(32, 64, kernel_size=(5, 5), stride=(1, 1))\n",
            "    (1): BatchNorm2d(64, eps=1e-05, momentum=0.1, affine=True, track_running_stats=True)\n",
            "    (2): ReLU()\n",
            "    (3): MaxPool2d(kernel_size=2, stride=2, padding=0, dilation=1, ceil_mode=False)\n",
            "  )\n",
            "  (flatten): Flatten(start_dim=1, end_dim=-1)\n",
            "  (fc1): Linear(in_features=1600, out_features=512, bias=True)\n",
            "  (drop1): Dropout2d(p=0.3, inplace=False)\n",
            "  (fc2): Linear(in_features=512, out_features=128, bias=True)\n",
            "  (drop2): Dropout2d(p=0.2, inplace=False)\n",
            "  (batchNorm): BatchNorm1d(128, eps=1e-05, momentum=0.1, affine=True, track_running_stats=True)\n",
            "  (fc3): Linear(in_features=128, out_features=10, bias=True)\n",
            ")\n"
          ]
        }
      ]
    },
    {
      "cell_type": "code",
      "source": [
        "#  Define the loss and optimizer function\n",
        "# loss fun \n",
        "loss_fn = nn.CrossEntropyLoss()\n",
        "# optimizer fun\n",
        "optimizer = torch.optim.Adam(convModel.parameters(), lr=0.001)"
      ],
      "metadata": {
        "id": "lVXxWbOmwzud"
      },
      "execution_count": null,
      "outputs": []
    },
    {
      "cell_type": "markdown",
      "source": [
        "# Train & Test the Model : "
      ],
      "metadata": {
        "id": "-tY7v2-NfzBZ"
      }
    },
    {
      "cell_type": "code",
      "source": [
        "# epochs = itrations--> The Number of the itration is 5 \n",
        "epochs = 5\n",
        "# Define lists to store the training loss and accuracy\n",
        "train_losses = []\n",
        "train_accs = []\n",
        "val_accs = []\n",
        "\n",
        "# Training loop\n",
        "for epoch in range(epochs):\n",
        "    # Train on the training data\n",
        "    convModel.train()\n",
        "    running_loss = 0\n",
        "    correct = 0\n",
        "    total = 0\n",
        "    for inputs, labels in train_Dloader:\n",
        "        optimizer.zero_grad()\n",
        "        outputs = convModel(inputs)\n",
        "        loss = loss_fn(outputs, labels)\n",
        "        loss.backward()\n",
        "        optimizer.step()\n",
        "        running_loss += loss.item()\n",
        "        \n",
        "        _, predicted = outputs.max(1)\n",
        "        total += labels.size(0)\n",
        "        correct += predicted.eq(labels).sum().item()\n",
        "        \n",
        "    # Compute the training loss and accuracy for the epoch\n",
        "    train_loss = running_loss / len(train_Dloader)\n",
        "    train_losses.append(train_loss)\n",
        "    train_acc = correct / total\n",
        "    train_accs.append(train_acc)\n",
        "    \n",
        "    # Evaluate on the validation data\n",
        "    convModel.eval()\n",
        "    correct = 0\n",
        "    total = 0\n",
        "    with torch.no_grad():\n",
        "        for inputs, labels in test_Dloader:\n",
        "            outputs = convModel(inputs)\n",
        "            _, predicted = outputs.max(1)\n",
        "            total += labels.size(0)\n",
        "            correct += predicted.eq(labels).sum().item()\n",
        "            \n",
        "    # Compute the validation accuracy for the epoch\n",
        "    val_acc = correct / total\n",
        "    val_accs.append(val_acc)\n",
        "    \n",
        "    print(f\"Epoch {epoch+1}- Train Loss:{train_loss:.4f} -Train Accuracy: {train_acc:.4f}= {(train_acc *100):.2f}% - Val Accuracy: {val_acc:.4f} = {(val_acc*100):.2f}%\")"
      ],
      "metadata": {
        "colab": {
          "base_uri": "https://localhost:8080/"
        },
        "id": "x4OclgqzjhZx",
        "outputId": "6a7ba348-feca-454d-9753-39716d0d297a"
      },
      "execution_count": null,
      "outputs": [
        {
          "output_type": "stream",
          "name": "stdout",
          "text": [
            "Epoch 1- Train Loss:0.0309 -Train Accuracy: 0.9904= 99.04% - Val Accuracy: 0.9369 = 93.69%\n",
            "Epoch 2- Train Loss:0.0227 -Train Accuracy: 0.9927= 99.27% - Val Accuracy: 0.9415 = 94.15%\n",
            "Epoch 3- Train Loss:0.0206 -Train Accuracy: 0.9930= 99.30% - Val Accuracy: 0.9356 = 93.56%\n",
            "Epoch 4- Train Loss:0.0158 -Train Accuracy: 0.9952= 99.52% - Val Accuracy: 0.9444 = 94.44%\n",
            "Epoch 5- Train Loss:0.0159 -Train Accuracy: 0.9946= 99.46% - Val Accuracy: 0.9423 = 94.23%\n"
          ]
        }
      ]
    },
    {
      "cell_type": "code",
      "source": [
        "# Classification Accuracy :\n",
        "best_val_acc = max(val_accs)\n",
        "best_epoch = val_accs.index(best_val_acc) + 1\n",
        "print(f\"Best Classification Accuracy is: {(best_val_acc * 100 ):.2f}% \")"
      ],
      "metadata": {
        "colab": {
          "base_uri": "https://localhost:8080/"
        },
        "id": "RR0UxuxOmtSn",
        "outputId": "60f8cddd-1d40-4c09-a1c9-35e44e719a0e"
      },
      "execution_count": null,
      "outputs": [
        {
          "output_type": "stream",
          "name": "stdout",
          "text": [
            "Best Classification Accuracy is: 93.13% \n"
          ]
        }
      ]
    },
    {
      "cell_type": "markdown",
      "source": [
        "# **Result evaluation**\n",
        "\n",
        "See the history of accuracy for training set and validation set during learning."
      ],
      "metadata": {
        "id": "y3adYkTLZFyS"
      }
    },
    {
      "cell_type": "code",
      "source": [
        "# Plot the training loss\n",
        "plt.plot(range(1, epochs+1), train_losses, label='Training Loss')\n",
        "plt.xlabel('Epochs')\n",
        "plt.ylabel('Loss')\n",
        "plt.legend()\n",
        "plt.show()"
      ],
      "metadata": {
        "colab": {
          "base_uri": "https://localhost:8080/",
          "height": 279
        },
        "id": "k9Q3hb9SF2j1",
        "outputId": "985098dc-a910-4e8d-8e36-e05006e7c256"
      },
      "execution_count": null,
      "outputs": [
        {
          "output_type": "display_data",
          "data": {
            "text/plain": [
              "<Figure size 432x288 with 1 Axes>"
            ],
            "image/png": "[encoded data removed]"
          },
          "metadata": {
            "needs_background": "light"
          }
        }
      ]
    },
    {
      "cell_type": "code",
      "source": [
        "# Plot the training and validation accuracy\n",
        "plt.plot(range(1, epochs+1), train_accs, label='Training Accuracy')\n",
        "plt.plot(range(1, epochs+1), val_accs, label='Validation Accuracy')\n",
        "plt.xlabel('Epochs')\n",
        "plt.ylabel('Accuracy')\n",
        "plt.legend()\n",
        "plt.show()"
      ],
      "metadata": {
        "colab": {
          "base_uri": "https://localhost:8080/",
          "height": 279
        },
        "id": "HX067nlkm6aF",
        "outputId": "d65b274a-81aa-46fb-8065-31dd9f6dd702"
      },
      "execution_count": null,
      "outputs": [
        {
          "output_type": "display_data",
          "data": {
            "text/plain": [
              "<Figure size 432x288 with 1 Axes>"
            ],
            "image/png": "[encoded data removed]"
          },
          "metadata": {
            "needs_background": "light"
          }
        }
      ]
    },
    {
      "cell_type": "markdown",
      "source": [
        "# **Confusion matrix**\n",
        "\n",
        "\n"
      ],
      "metadata": {
        "id": "Xyj8kdvK-Qlx"
      }
    },
    {
      "cell_type": "code",
      "source": [
        "def plot_confusion_matrix(y_true, y_pred, classes,\n",
        "                          normalize=False,\n",
        "                          title=None,\n",
        "                          cmap=plt.cm.Blues):\n",
        "    \"\"\"\n",
        "    This function prints and plots the confusion matrix.\n",
        "    Normalization can be applied by setting `normalize=True`.\n",
        "    \"\"\"\n",
        "    if not title:\n",
        "        if normalize:\n",
        "            title = 'Normalized confusion matrix'\n",
        "        else:\n",
        "            title = 'Confusion matrix, without normalization'\n",
        "\n",
        "    # Compute confusion matrix\n",
        "    cm = confusion_matrix(y_true, y_pred)\n",
        "    # Only use the labels that appear in the data\n",
        "    #classes = classes[unique_labels(y_true, y_pred)]\n",
        "    if normalize:\n",
        "        cm = cm.astype('float') / cm.sum(axis=1)[:, np.newaxis]\n",
        "        print(\"Normalized confusion matrix\")\n",
        "    else:\n",
        "        print('Confusion matrix, without normalization')\n",
        "\n",
        "    print(cm)\n",
        "\n",
        "    fig, ax = plt.subplots()\n",
        "    im = ax.imshow(cm, interpolation='nearest', cmap=cmap)\n",
        "    ax.figure.colorbar(im, ax=ax)\n",
        "    # We want to show all ticks...\n",
        "    ax.set(xticks=np.arange(cm.shape[1]),\n",
        "           yticks=np.arange(cm.shape[0]),\n",
        "           # ... and label them with the respective list entries\n",
        "           xticklabels=classes, yticklabels=classes,\n",
        "           title=title,\n",
        "           ylabel='True label',\n",
        "           xlabel='Predicted label')\n",
        "\n",
        "    # Rotate the tick labels and set their alignment.\n",
        "    plt.setp(ax.get_xticklabels(), rotation=45, ha=\"right\",\n",
        "             rotation_mode=\"anchor\")\n",
        "\n",
        "    # Loop over data dimensions and create text annotations.\n",
        "    fmt = '.2f' if normalize else 'd'\n",
        "    thresh = cm.max() / 2.\n",
        "    for i in range(cm.shape[0]):\n",
        "        for j in range(cm.shape[1]):\n",
        "            ax.text(j, i, format(cm[i, j], fmt),\n",
        "                    ha=\"center\", va=\"center\",\n",
        "                    color=\"white\" if cm[i, j] > thresh else \"black\")\n",
        "    fig.tight_layout()\n",
        "    return ax"
      ],
      "metadata": {
        "id": "H0asXnEPb3gL"
      },
      "execution_count": null,
      "outputs": []
    },
    {
      "cell_type": "code",
      "source": [
        "@torch.no_grad()\n",
        "def get_all_prediction(model, loader):\n",
        "    preds = torch.tensor([])\n",
        "    for batch in loader:\n",
        "        images, labels = batch\n",
        "        batch_predictions = model(images)\n",
        "        preds = torch.cat((preds, batch_predictions), dim = 0)\n",
        "    return preds"
      ],
      "metadata": {
        "id": "zVW2o9OdUD8d"
      },
      "execution_count": null,
      "outputs": []
    },
    {
      "cell_type": "code",
      "source": [
        "np.set_printoptions(precision=2)\n",
        "\n",
        "train_preds = get_all_prediction(convModel, train_Dloader)\n",
        "label_dict = {\n",
        "    \"か\",\n",
        "    \"き\",\n",
        "    \"く\",\n",
        "    \"け\",\n",
        "    \"こ\",\n",
        "    \"さ\",\n",
        "    \"し\",\n",
        "    \"す\",\n",
        "    \"せ\",\n",
        "    \"そ\"\n",
        "}\n",
        "\n",
        "\n",
        "# Plot non-normalized confusion matrix\n",
        "\n",
        "\n",
        "plt.figure(figsize=(100,100))\n",
        "plot_confusion_matrix(train_data.targets, train_preds.argmax(dim=1), classes=label_dict,\n",
        "                      title='Confusion matrix')\n",
        "\n",
        "plt.show()"
      ],
      "metadata": {
        "colab": {
          "base_uri": "https://localhost:8080/",
          "height": 1000
        },
        "id": "h0dmXPl7UIVK",
        "outputId": "d4a418fe-fe7b-4d49-dd6c-aa5dd19379a7"
      },
      "execution_count": null,
      "outputs": [
        {
          "output_type": "stream",
          "name": "stdout",
          "text": [
            "Confusion matrix, without normalization\n",
            "[[5982    2    2    1    3    1    0    2    6    1]\n",
            " [   1 5953   29    2    0    3    0    2    9    1]\n",
            " [   0    2 5976    8    0    4    1    0    8    1]\n",
            " [   0    2    6 5989    0    2    0    1    0    0]\n",
            " [  39    1   19   11 5894   14    1    8    8    5]\n",
            " [   7    1   17   48    1 5922    0    1    3    0]\n",
            " [  12   20  341   95   22   25 5435   16   29    5]\n",
            " [   2    1    8    6    1    0    0 5976    4    2]\n",
            " [   3    3   12    3    0    0    1    1 5976    1]\n",
            " [   2    4   13    2    1    2    0    3    4 5969]]\n"
          ]
        },
        {
          "output_type": "stream",
          "name": "stderr",
          "text": [
            "/usr/local/lib/python3.8/dist-packages/matplotlib/backends/backend_agg.py:214: RuntimeWarning: Glyph 12371 missing from current font.\n",
            "  font.set_text(s, 0.0, flags=flags)\n",
            "/usr/local/lib/python3.8/dist-packages/matplotlib/backends/backend_agg.py:214: RuntimeWarning: Glyph 12375 missing from current font.\n",
            "  font.set_text(s, 0.0, flags=flags)\n",
            "/usr/local/lib/python3.8/dist-packages/matplotlib/backends/backend_agg.py:214: RuntimeWarning: Glyph 12373 missing from current font.\n",
            "  font.set_text(s, 0.0, flags=flags)\n",
            "/usr/local/lib/python3.8/dist-packages/matplotlib/backends/backend_agg.py:214: RuntimeWarning: Glyph 12381 missing from current font.\n",
            "  font.set_text(s, 0.0, flags=flags)\n",
            "/usr/local/lib/python3.8/dist-packages/matplotlib/backends/backend_agg.py:214: RuntimeWarning: Glyph 12377 missing from current font.\n",
            "  font.set_text(s, 0.0, flags=flags)\n",
            "/usr/local/lib/python3.8/dist-packages/matplotlib/backends/backend_agg.py:214: RuntimeWarning: Glyph 12363 missing from current font.\n",
            "  font.set_text(s, 0.0, flags=flags)\n",
            "/usr/local/lib/python3.8/dist-packages/matplotlib/backends/backend_agg.py:214: RuntimeWarning: Glyph 12367 missing from current font.\n",
            "  font.set_text(s, 0.0, flags=flags)\n",
            "/usr/local/lib/python3.8/dist-packages/matplotlib/backends/backend_agg.py:214: RuntimeWarning: Glyph 12369 missing from current font.\n",
            "  font.set_text(s, 0.0, flags=flags)\n",
            "/usr/local/lib/python3.8/dist-packages/matplotlib/backends/backend_agg.py:214: RuntimeWarning: Glyph 12365 missing from current font.\n",
            "  font.set_text(s, 0.0, flags=flags)\n",
            "/usr/local/lib/python3.8/dist-packages/matplotlib/backends/backend_agg.py:214: RuntimeWarning: Glyph 12379 missing from current font.\n",
            "  font.set_text(s, 0.0, flags=flags)\n"
          ]
        },
        {
          "output_type": "display_data",
          "data": {
            "text/plain": [
              "<Figure size 7200x7200 with 0 Axes>"
            ]
          },
          "metadata": {}
        },
        {
          "output_type": "stream",
          "name": "stderr",
          "text": [
            "/usr/local/lib/python3.8/dist-packages/matplotlib/backends/backend_agg.py:183: RuntimeWarning: Glyph 12371 missing from current font.\n",
            "  font.set_text(s, 0, flags=flags)\n",
            "/usr/local/lib/python3.8/dist-packages/matplotlib/backends/backend_agg.py:183: RuntimeWarning: Glyph 12375 missing from current font.\n",
            "  font.set_text(s, 0, flags=flags)\n",
            "/usr/local/lib/python3.8/dist-packages/matplotlib/backends/backend_agg.py:183: RuntimeWarning: Glyph 12373 missing from current font.\n",
            "  font.set_text(s, 0, flags=flags)\n",
            "/usr/local/lib/python3.8/dist-packages/matplotlib/backends/backend_agg.py:183: RuntimeWarning: Glyph 12381 missing from current font.\n",
            "  font.set_text(s, 0, flags=flags)\n",
            "/usr/local/lib/python3.8/dist-packages/matplotlib/backends/backend_agg.py:183: RuntimeWarning: Glyph 12377 missing from current font.\n",
            "  font.set_text(s, 0, flags=flags)\n",
            "/usr/local/lib/python3.8/dist-packages/matplotlib/backends/backend_agg.py:183: RuntimeWarning: Glyph 12363 missing from current font.\n",
            "  font.set_text(s, 0, flags=flags)\n",
            "/usr/local/lib/python3.8/dist-packages/matplotlib/backends/backend_agg.py:183: RuntimeWarning: Glyph 12367 missing from current font.\n",
            "  font.set_text(s, 0, flags=flags)\n",
            "/usr/local/lib/python3.8/dist-packages/matplotlib/backends/backend_agg.py:183: RuntimeWarning: Glyph 12369 missing from current font.\n",
            "  font.set_text(s, 0, flags=flags)\n",
            "/usr/local/lib/python3.8/dist-packages/matplotlib/backends/backend_agg.py:183: RuntimeWarning: Glyph 12365 missing from current font.\n",
            "  font.set_text(s, 0, flags=flags)\n",
            "/usr/local/lib/python3.8/dist-packages/matplotlib/backends/backend_agg.py:183: RuntimeWarning: Glyph 12379 missing from current font.\n",
            "  font.set_text(s, 0, flags=flags)\n"
          ]
        },
        {
          "output_type": "display_data",
          "data": {
            "text/plain": [
              "<Figure size 432x288 with 2 Axes>"
            ],
            "image/png": "[encoded data removed]"
          },
          "metadata": {
            "needs_background": "light"
          }
        }
      ]
    },
    {
      "cell_type": "markdown",
      "source": [
        "#Visualize The Wrong Predicted Labels :\n",
        "\n",
        "\n",
        "\n"
      ],
      "metadata": {
        "id": "_fDbC1WuZWP-"
      }
    },
    {
      "cell_type": "code",
      "source": [
        "convModel.eval()\n",
        "\n",
        "# Initialize a list to store the wrong predictions\n",
        "wrong_predictions = []\n",
        "\n",
        "\n",
        "labels_pred= [\n",
        "    \"か\",\n",
        "    \"き\",\n",
        "    \"く\",\n",
        "    \"け\",\n",
        "    \"こ\",\n",
        "    \"さ\",\n",
        "    \"し\",\n",
        "    \"す\",\n",
        "    \"せ\",\n",
        "    \"そ\"\n",
        "]\n",
        "\n",
        "\n",
        "# Iterate through the test dataset\n",
        "for i, (image, labels) in enumerate(test_data):\n",
        "    # Make a prediction\n",
        "    output = convModel(image.unsqueeze(0))\n",
        "    pred = output.argmax(dim=1)\n",
        "    # Compare the predicted label with the true label\n",
        "    if pred != labels:\n",
        "        # Append the image, true label, and predicted label to the list\n",
        "        wrong_predictions.append((image, labels, pred))\n",
        "\n",
        "# Display the wrong predictions\n",
        "counter=5\n",
        "for image, labels, pred in wrong_predictions: \n",
        "    plt.imshow(image.squeeze(), cmap='gray')\n",
        "    pred_list=pred.tolist()\n",
        "    plt.title(f' Right label:{labels_pred[labels]} , Prediction: {labels_pred[pred_list[0]]}')\n",
        "    plt.show()\n",
        "    counter-=1\n",
        "    if counter==0:\n",
        "      break\n",
        "    "
      ],
      "metadata": {
        "colab": {
          "base_uri": "https://localhost:8080/",
          "height": 1000
        },
        "id": "mK58m8g3Wn-i",
        "outputId": "ed0d9ec4-da52-4100-9742-77ac12b5a71e"
      },
      "execution_count": null,
      "outputs": [
        {
          "output_type": "stream",
          "name": "stderr",
          "text": [
            "/usr/local/lib/python3.8/dist-packages/torch/nn/functional.py:1331: UserWarning: dropout2d: Received a 2-D input to dropout2d, which is deprecated and will result in an error in a future release. To retain the behavior and silence this warning, please use dropout instead. Note that dropout2d exists to provide channel-wise dropout on inputs with 2 spatial dimensions, a channel dimension, and an optional batch dimension (i.e. 3D or 4D inputs).\n",
            "  warnings.warn(warn_msg)\n"
          ]
        },
        {
          "output_type": "display_data",
          "data": {
            "text/plain": [
              "<Figure size 432x288 with 1 Axes>"
            ],
            "image/png": "[encoded data removed]"
          },
          "metadata": {
            "needs_background": "light"
          }
        },
        {
          "output_type": "display_data",
          "data": {
            "text/plain": [
              "<Figure size 432x288 with 1 Axes>"
            ],
            "image/png": "[encoded data removed]"
          },
          "metadata": {
            "needs_background": "light"
          }
        },
        {
          "output_type": "display_data",
          "data": {
            "text/plain": [
              "<Figure size 432x288 with 1 Axes>"
            ],
            "image/png": "[encoded data removed]"
          },
          "metadata": {
            "needs_background": "light"
          }
        },
        {
          "output_type": "display_data",
          "data": {
            "text/plain": [
              "<Figure size 432x288 with 1 Axes>"
            ],
            "image/png": "[encoded data removed]"
          },
          "metadata": {
            "needs_background": "light"
          }
        },
        {
          "output_type": "display_data",
          "data": {
            "text/plain": [
              "<Figure size 432x288 with 1 Axes>"
            ],
            "image/png": "[encoded data removed]"
          },
          "metadata": {
            "needs_background": "light"
          }
        }
      ]
    },
    {
      "cell_type": "markdown",
      "source": [
        "# Visualize The Correct Predicted Labels :"
      ],
      "metadata": {
        "id": "yQCLXBggp1Nl"
      }
    },
    {
      "cell_type": "code",
      "source": [
        "convModel.eval()\n",
        "\n",
        "# Initialize a list to store the wrong predictions\n",
        "true_predictions = []\n",
        "\n",
        "# Iterate through the test dataset\n",
        "for i, (image, labels) in enumerate(test_data):\n",
        "    # Make a prediction\n",
        "    output = convModel(image.unsqueeze(0))\n",
        "    pred = output.argmax(dim=1)\n",
        "    # Compare the predicted label with the true label\n",
        "    if pred == labels:\n",
        "        # Append the image, true label, and predicted label to the list\n",
        "        true_predictions.append((image, labels, pred))\n",
        "\n",
        "# Display the wrong predictions\n",
        "counter=5\n",
        "for image, labels, pred in true_predictions: \n",
        "    plt.imshow(image.squeeze(), cmap='gray')\n",
        "    pred_list=pred.tolist()\n",
        "    plt.title(f' Right label:{labels_pred[labels]} , Prediction: {labels_pred[pred_list[0]]}')\n",
        "    plt.show()\n",
        "    counter-=1\n",
        "    if counter==0:\n",
        "      break"
      ],
      "metadata": {
        "id": "vQdgzVjxqGEu",
        "colab": {
          "base_uri": "https://localhost:8080/",
          "height": 1000
        },
        "outputId": "54d55f84-1751-442f-b396-89a330fca1c0"
      },
      "execution_count": null,
      "outputs": [
        {
          "output_type": "display_data",
          "data": {
            "text/plain": [
              "<Figure size 432x288 with 1 Axes>"
            ],
            "image/png": "[encoded data removed]"
          },
          "metadata": {
            "needs_background": "light"
          }
        },
        {
          "output_type": "display_data",
          "data": {
            "text/plain": [
              "<Figure size 432x288 with 1 Axes>"
            ],
            "image/png": "[encoded data removed]"
          },
          "metadata": {
            "needs_background": "light"
          }
        },
        {
          "output_type": "display_data",
          "data": {
            "text/plain": [
              "<Figure size 432x288 with 1 Axes>"
            ],
            "image/png": "[encoded data removed]"
          },
          "metadata": {
            "needs_background": "light"
          }
        },
        {
          "output_type": "display_data",
          "data": {
            "text/plain": [
              "<Figure size 432x288 with 1 Axes>"
            ],
            "image/png": "[encoded data removed]"
          },
          "metadata": {
            "needs_background": "light"
          }
        },
        {
          "output_type": "display_data",
          "data": {
            "text/plain": [
              "<Figure size 432x288 with 1 Axes>"
            ],
            "image/png": "[encoded data removed]"
          },
          "metadata": {
            "needs_background": "light"
          }
        }
      ]
    },
    {
      "cell_type": "markdown",
      "source": [
        "*****************************************"
      ],
      "metadata": {
        "id": "ekpsRW9AqDcw"
      }
    }
  ]
}